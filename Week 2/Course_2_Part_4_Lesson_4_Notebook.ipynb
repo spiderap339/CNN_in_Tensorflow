{
  "nbformat": 4,
  "nbformat_minor": 0,
  "metadata": {
    "accelerator": "GPU",
    "colab": {
      "name": "Course 2 - Part 4 - Lesson 4 - Notebook.ipynb",
      "provenance": [],
      "collapsed_sections": [],
      "toc_visible": true
    },
    "kernelspec": {
      "display_name": "Python 3",
      "name": "python3"
    }
  },
  "cells": [
    {
      "cell_type": "markdown",
      "metadata": {
        "colab_type": "text",
        "id": "rX8mhOLljYeM"
      },
      "source": [
        "##### Copyright 2019 The TensorFlow Authors."
      ]
    },
    {
      "cell_type": "code",
      "metadata": {
        "cellView": "form",
        "colab_type": "code",
        "id": "BZSlp3DAjdYf",
        "colab": {}
      },
      "source": [
        "#@title Licensed under the Apache License, Version 2.0 (the \"License\");\n",
        "# you may not use this file except in compliance with the License.\n",
        "# You may obtain a copy of the License at\n",
        "#\n",
        "# https://www.apache.org/licenses/LICENSE-2.0\n",
        "#\n",
        "# Unless required by applicable law or agreed to in writing, software\n",
        "# distributed under the License is distributed on an \"AS IS\" BASIS,\n",
        "# WITHOUT WARRANTIES OR CONDITIONS OF ANY KIND, either express or implied.\n",
        "# See the License for the specific language governing permissions and\n",
        "# limitations under the License."
      ],
      "execution_count": 1,
      "outputs": []
    },
    {
      "cell_type": "code",
      "metadata": {
        "colab_type": "code",
        "id": "RXZT2UsyIVe_",
        "colab": {
          "base_uri": "https://localhost:8080/",
          "height": 386
        },
        "outputId": "907b1ca5-dcac-4b46-ee07-ea012a31a14f"
      },
      "source": [
        "!wget --no-check-certificate \\\n",
        "    https://storage.googleapis.com/laurencemoroney-blog.appspot.com/horse-or-human.zip \\\n",
        "    -O /tmp/horse-or-human.zip\n",
        "\n",
        "!wget --no-check-certificate \\\n",
        "    https://storage.googleapis.com/laurencemoroney-blog.appspot.com/validation-horse-or-human.zip \\\n",
        "    -O /tmp/validation-horse-or-human.zip\n",
        "  \n",
        "import os\n",
        "import zipfile\n",
        "\n",
        "local_zip = '/tmp/horse-or-human.zip'\n",
        "zip_ref = zipfile.ZipFile(local_zip, 'r')\n",
        "zip_ref.extractall('/tmp/horse-or-human')\n",
        "local_zip = '/tmp/validation-horse-or-human.zip'\n",
        "zip_ref = zipfile.ZipFile(local_zip, 'r')\n",
        "zip_ref.extractall('/tmp/validation-horse-or-human')\n",
        "zip_ref.close()\n",
        "# Directory with our training horse pictures\n",
        "train_horse_dir = os.path.join('/tmp/horse-or-human/horses')\n",
        "\n",
        "# Directory with our training human pictures\n",
        "train_human_dir = os.path.join('/tmp/horse-or-human/humans')\n",
        "\n",
        "# Directory with our training horse pictures\n",
        "validation_horse_dir = os.path.join('/tmp/validation-horse-or-human/horses')\n",
        "\n",
        "# Directory with our training human pictures\n",
        "validation_human_dir = os.path.join('/tmp/validation-horse-or-human/humans')"
      ],
      "execution_count": 2,
      "outputs": [
        {
          "output_type": "stream",
          "text": [
            "--2020-08-03 17:03:42--  https://storage.googleapis.com/laurencemoroney-blog.appspot.com/horse-or-human.zip\n",
            "Resolving storage.googleapis.com (storage.googleapis.com)... 108.177.112.128, 172.217.212.128, 172.217.214.128, ...\n",
            "Connecting to storage.googleapis.com (storage.googleapis.com)|108.177.112.128|:443... connected.\n",
            "HTTP request sent, awaiting response... 200 OK\n",
            "Length: 149574867 (143M) [application/zip]\n",
            "Saving to: ‘/tmp/horse-or-human.zip’\n",
            "\n",
            "/tmp/horse-or-human 100%[===================>] 142.65M   129MB/s    in 1.1s    \n",
            "\n",
            "2020-08-03 17:03:44 (129 MB/s) - ‘/tmp/horse-or-human.zip’ saved [149574867/149574867]\n",
            "\n",
            "--2020-08-03 17:03:48--  https://storage.googleapis.com/laurencemoroney-blog.appspot.com/validation-horse-or-human.zip\n",
            "Resolving storage.googleapis.com (storage.googleapis.com)... 173.194.194.128, 108.177.112.128, 172.217.212.128, ...\n",
            "Connecting to storage.googleapis.com (storage.googleapis.com)|173.194.194.128|:443... connected.\n",
            "HTTP request sent, awaiting response... 200 OK\n",
            "Length: 11480187 (11M) [application/zip]\n",
            "Saving to: ‘/tmp/validation-horse-or-human.zip’\n",
            "\n",
            "/tmp/validation-hor 100%[===================>]  10.95M  --.-KB/s    in 0.1s    \n",
            "\n",
            "2020-08-03 17:03:48 (101 MB/s) - ‘/tmp/validation-horse-or-human.zip’ saved [11480187/11480187]\n",
            "\n"
          ],
          "name": "stdout"
        }
      ]
    },
    {
      "cell_type": "markdown",
      "metadata": {
        "colab_type": "text",
        "id": "5oqBkNBJmtUv"
      },
      "source": [
        "## Building a Small Model from Scratch\n",
        "\n",
        "But before we continue, let's start defining the model:\n",
        "\n",
        "Step 1 will be to import tensorflow."
      ]
    },
    {
      "cell_type": "code",
      "metadata": {
        "colab_type": "code",
        "id": "qvfZg3LQbD-5",
        "colab": {}
      },
      "source": [
        "import tensorflow as tf"
      ],
      "execution_count": 3,
      "outputs": []
    },
    {
      "cell_type": "markdown",
      "metadata": {
        "colab_type": "text",
        "id": "BnhYCP4tdqjC"
      },
      "source": [
        "We then add convolutional layers as in the previous example, and flatten the final result to feed into the densely connected layers."
      ]
    },
    {
      "cell_type": "markdown",
      "metadata": {
        "colab_type": "text",
        "id": "gokG5HKpdtzm"
      },
      "source": [
        "Finally we add the densely connected layers. \n",
        "\n",
        "Note that because we are facing a two-class classification problem, i.e. a *binary classification problem*, we will end our network with a [*sigmoid* activation](https://wikipedia.org/wiki/Sigmoid_function), so that the output of our network will be a single scalar between 0 and 1, encoding the probability that the current image is class 1 (as opposed to class 0)."
      ]
    },
    {
      "cell_type": "code",
      "metadata": {
        "colab_type": "code",
        "id": "PixZ2s5QbYQ3",
        "colab": {}
      },
      "source": [
        "model = tf.keras.models.Sequential([\n",
        "    # Note the input shape is the desired size of the image 300x300 with 3 bytes color\n",
        "    # This is the first convolution\n",
        "    tf.keras.layers.Conv2D(16, (3,3), activation='relu', input_shape=(300, 300, 3)),\n",
        "    tf.keras.layers.MaxPooling2D(2, 2),\n",
        "    # The second convolution\n",
        "    tf.keras.layers.Conv2D(32, (3,3), activation='relu'),\n",
        "    tf.keras.layers.MaxPooling2D(2,2),\n",
        "    # The third convolution\n",
        "    tf.keras.layers.Conv2D(64, (3,3), activation='relu'),\n",
        "    tf.keras.layers.MaxPooling2D(2,2),\n",
        "    # The fourth convolution\n",
        "    tf.keras.layers.Conv2D(64, (3,3), activation='relu'),\n",
        "    tf.keras.layers.MaxPooling2D(2,2),\n",
        "    # The fifth convolution\n",
        "    tf.keras.layers.Conv2D(64, (3,3), activation='relu'),\n",
        "    tf.keras.layers.MaxPooling2D(2,2),\n",
        "    # Flatten the results to feed into a DNN\n",
        "    tf.keras.layers.Flatten(),\n",
        "    # 512 neuron hidden layer\n",
        "    tf.keras.layers.Dense(512, activation='relu'),\n",
        "    # Only 1 output neuron. It will contain a value from 0-1 where 0 for 1 class ('horses') and 1 for the other ('humans')\n",
        "    tf.keras.layers.Dense(1, activation='sigmoid')\n",
        "])"
      ],
      "execution_count": 4,
      "outputs": []
    },
    {
      "cell_type": "code",
      "metadata": {
        "colab_type": "code",
        "id": "8DHWhFP_uhq3",
        "colab": {}
      },
      "source": [
        "from tensorflow.keras.optimizers import RMSprop\n",
        "\n",
        "model.compile(loss='binary_crossentropy',\n",
        "              optimizer=RMSprop(lr=1e-4),\n",
        "              metrics=['accuracy'])"
      ],
      "execution_count": 5,
      "outputs": []
    },
    {
      "cell_type": "code",
      "metadata": {
        "colab_type": "code",
        "id": "ClebU9NJg99G",
        "colab": {
          "base_uri": "https://localhost:8080/",
          "height": 50
        },
        "outputId": "eeffcaed-29bc-4d4b-f1d5-fc795daf9d26"
      },
      "source": [
        "from tensorflow.keras.preprocessing.image import ImageDataGenerator\n",
        "\n",
        "# All images will be rescaled by 1./255\n",
        "train_datagen = ImageDataGenerator(\n",
        "      rescale=1./255,\n",
        "      rotation_range=40,\n",
        "      width_shift_range=0.2,\n",
        "      height_shift_range=0.2,\n",
        "      shear_range=0.2,\n",
        "      zoom_range=0.2,\n",
        "      horizontal_flip=True,\n",
        "      fill_mode='nearest')\n",
        "\n",
        "validation_datagen = ImageDataGenerator(rescale=1/255)\n",
        "\n",
        "# Flow training images in batches of 128 using train_datagen generator\n",
        "train_generator = train_datagen.flow_from_directory(\n",
        "        '/tmp/horse-or-human/',  # This is the source directory for training images\n",
        "        target_size=(300, 300),  # All images will be resized to 150x150\n",
        "        batch_size=128,\n",
        "        # Since we use binary_crossentropy loss, we need binary labels\n",
        "        class_mode='binary')\n",
        "\n",
        "# Flow training images in batches of 128 using train_datagen generator\n",
        "validation_generator = validation_datagen.flow_from_directory(\n",
        "        '/tmp/validation-horse-or-human/',  # This is the source directory for training images\n",
        "        target_size=(300, 300),  # All images will be resized to 150x150\n",
        "        batch_size=32,\n",
        "        # Since we use binary_crossentropy loss, we need binary labels\n",
        "        class_mode='binary')"
      ],
      "execution_count": 6,
      "outputs": [
        {
          "output_type": "stream",
          "text": [
            "Found 1027 images belonging to 2 classes.\n",
            "Found 256 images belonging to 2 classes.\n"
          ],
          "name": "stdout"
        }
      ]
    },
    {
      "cell_type": "code",
      "metadata": {
        "colab_type": "code",
        "id": "Fb1_lgobv81m",
        "colab": {
          "base_uri": "https://localhost:8080/",
          "height": 1000
        },
        "outputId": "6610e15e-8bd7-46c8-eec9-2579d6e9970d"
      },
      "source": [
        "history = model.fit(\n",
        "      train_generator,\n",
        "      steps_per_epoch=8,  \n",
        "      epochs=100,\n",
        "      verbose=1,\n",
        "      validation_data = validation_generator,\n",
        "      validation_steps=8)"
      ],
      "execution_count": 7,
      "outputs": [
        {
          "output_type": "stream",
          "text": [
            "Epoch 1/100\n",
            "2/8 [======>.......................] - ETA: 1s - loss: 0.6987 - accuracy: 0.4766WARNING:tensorflow:Callbacks method `on_train_batch_end` is slow compared to the batch time (batch time: 0.1406s vs `on_train_batch_end` time: 0.2110s). Check your callbacks.\n",
            "8/8 [==============================] - 21s 3s/step - loss: 0.6893 - accuracy: 0.5350 - val_loss: 0.6678 - val_accuracy: 0.6836\n",
            "Epoch 2/100\n",
            "8/8 [==============================] - 26s 3s/step - loss: 0.6742 - accuracy: 0.6758 - val_loss: 0.6381 - val_accuracy: 0.6016\n",
            "Epoch 3/100\n",
            "8/8 [==============================] - 23s 3s/step - loss: 0.6509 - accuracy: 0.6852 - val_loss: 0.5769 - val_accuracy: 0.8320\n",
            "Epoch 4/100\n",
            "8/8 [==============================] - 22s 3s/step - loss: 0.5939 - accuracy: 0.7097 - val_loss: 0.8167 - val_accuracy: 0.5078\n",
            "Epoch 5/100\n",
            "8/8 [==============================] - 22s 3s/step - loss: 0.5684 - accuracy: 0.7208 - val_loss: 0.6737 - val_accuracy: 0.5820\n",
            "Epoch 6/100\n",
            "8/8 [==============================] - 22s 3s/step - loss: 0.5390 - accuracy: 0.7253 - val_loss: 1.2313 - val_accuracy: 0.5039\n",
            "Epoch 7/100\n",
            "8/8 [==============================] - 25s 3s/step - loss: 0.5339 - accuracy: 0.7375 - val_loss: 0.8654 - val_accuracy: 0.5547\n",
            "Epoch 8/100\n",
            "8/8 [==============================] - 23s 3s/step - loss: 0.5105 - accuracy: 0.7364 - val_loss: 0.8049 - val_accuracy: 0.5859\n",
            "Epoch 9/100\n",
            "8/8 [==============================] - 22s 3s/step - loss: 0.5304 - accuracy: 0.7475 - val_loss: 0.9757 - val_accuracy: 0.5742\n",
            "Epoch 10/100\n",
            "8/8 [==============================] - 22s 3s/step - loss: 0.4963 - accuracy: 0.7597 - val_loss: 0.4693 - val_accuracy: 0.8086\n",
            "Epoch 11/100\n",
            "8/8 [==============================] - 22s 3s/step - loss: 0.5032 - accuracy: 0.7519 - val_loss: 1.0192 - val_accuracy: 0.5742\n",
            "Epoch 12/100\n",
            "8/8 [==============================] - 23s 3s/step - loss: 0.4935 - accuracy: 0.7553 - val_loss: 1.1676 - val_accuracy: 0.5391\n",
            "Epoch 13/100\n",
            "8/8 [==============================] - 23s 3s/step - loss: 0.4798 - accuracy: 0.7664 - val_loss: 1.0699 - val_accuracy: 0.5938\n",
            "Epoch 14/100\n",
            "8/8 [==============================] - 23s 3s/step - loss: 0.5516 - accuracy: 0.7686 - val_loss: 1.0188 - val_accuracy: 0.6289\n",
            "Epoch 15/100\n",
            "8/8 [==============================] - 22s 3s/step - loss: 0.4314 - accuracy: 0.8120 - val_loss: 1.2102 - val_accuracy: 0.5977\n",
            "Epoch 16/100\n",
            "8/8 [==============================] - 24s 3s/step - loss: 0.4176 - accuracy: 0.8164 - val_loss: 1.5728 - val_accuracy: 0.5508\n",
            "Epoch 17/100\n",
            "8/8 [==============================] - 25s 3s/step - loss: 0.4141 - accuracy: 0.8020 - val_loss: 1.5492 - val_accuracy: 0.5625\n",
            "Epoch 18/100\n",
            "8/8 [==============================] - 22s 3s/step - loss: 0.4453 - accuracy: 0.7964 - val_loss: 1.3880 - val_accuracy: 0.5898\n",
            "Epoch 19/100\n",
            "8/8 [==============================] - 22s 3s/step - loss: 0.3898 - accuracy: 0.8309 - val_loss: 1.5586 - val_accuracy: 0.5898\n",
            "Epoch 20/100\n",
            "8/8 [==============================] - 22s 3s/step - loss: 0.4146 - accuracy: 0.7998 - val_loss: 1.4694 - val_accuracy: 0.5977\n",
            "Epoch 21/100\n",
            "8/8 [==============================] - 27s 3s/step - loss: 0.4115 - accuracy: 0.8398 - val_loss: 1.5747 - val_accuracy: 0.5859\n",
            "Epoch 22/100\n",
            "8/8 [==============================] - 25s 3s/step - loss: 0.4081 - accuracy: 0.8198 - val_loss: 1.5333 - val_accuracy: 0.5859\n",
            "Epoch 23/100\n",
            "8/8 [==============================] - 22s 3s/step - loss: 0.3918 - accuracy: 0.8265 - val_loss: 1.4843 - val_accuracy: 0.5938\n",
            "Epoch 24/100\n",
            "8/8 [==============================] - 26s 3s/step - loss: 0.3600 - accuracy: 0.8432 - val_loss: 1.5050 - val_accuracy: 0.6172\n",
            "Epoch 25/100\n",
            "8/8 [==============================] - 25s 3s/step - loss: 0.4507 - accuracy: 0.8142 - val_loss: 1.8969 - val_accuracy: 0.5625\n",
            "Epoch 26/100\n",
            "8/8 [==============================] - 22s 3s/step - loss: 0.3534 - accuracy: 0.8554 - val_loss: 1.6394 - val_accuracy: 0.5977\n",
            "Epoch 27/100\n",
            "8/8 [==============================] - 22s 3s/step - loss: 0.3178 - accuracy: 0.8732 - val_loss: 0.7106 - val_accuracy: 0.7852\n",
            "Epoch 28/100\n",
            "8/8 [==============================] - 22s 3s/step - loss: 0.4126 - accuracy: 0.8176 - val_loss: 1.6434 - val_accuracy: 0.6016\n",
            "Epoch 29/100\n",
            "8/8 [==============================] - 25s 3s/step - loss: 0.3655 - accuracy: 0.8420 - val_loss: 1.8524 - val_accuracy: 0.5742\n",
            "Epoch 30/100\n",
            "8/8 [==============================] - 23s 3s/step - loss: 0.3169 - accuracy: 0.8643 - val_loss: 1.5436 - val_accuracy: 0.6211\n",
            "Epoch 31/100\n",
            "8/8 [==============================] - 23s 3s/step - loss: 0.3577 - accuracy: 0.8365 - val_loss: 1.7922 - val_accuracy: 0.5938\n",
            "Epoch 32/100\n",
            "8/8 [==============================] - 23s 3s/step - loss: 0.3986 - accuracy: 0.8420 - val_loss: 2.0894 - val_accuracy: 0.5703\n",
            "Epoch 33/100\n",
            "8/8 [==============================] - 22s 3s/step - loss: 0.2860 - accuracy: 0.8877 - val_loss: 2.3333 - val_accuracy: 0.5547\n",
            "Epoch 34/100\n",
            "8/8 [==============================] - 22s 3s/step - loss: 0.2784 - accuracy: 0.8988 - val_loss: 1.8768 - val_accuracy: 0.6094\n",
            "Epoch 35/100\n",
            "8/8 [==============================] - 22s 3s/step - loss: 0.2965 - accuracy: 0.8943 - val_loss: 1.5832 - val_accuracy: 0.6562\n",
            "Epoch 36/100\n",
            "8/8 [==============================] - 22s 3s/step - loss: 0.2972 - accuracy: 0.8810 - val_loss: 1.8736 - val_accuracy: 0.6016\n",
            "Epoch 37/100\n",
            "8/8 [==============================] - 22s 3s/step - loss: 0.2670 - accuracy: 0.9032 - val_loss: 2.0795 - val_accuracy: 0.6094\n",
            "Epoch 38/100\n",
            "8/8 [==============================] - 23s 3s/step - loss: 0.3088 - accuracy: 0.8598 - val_loss: 2.9121 - val_accuracy: 0.5352\n",
            "Epoch 39/100\n",
            "8/8 [==============================] - 22s 3s/step - loss: 0.2754 - accuracy: 0.8910 - val_loss: 2.6329 - val_accuracy: 0.5703\n",
            "Epoch 40/100\n",
            "8/8 [==============================] - 22s 3s/step - loss: 0.3270 - accuracy: 0.8654 - val_loss: 1.9535 - val_accuracy: 0.6016\n",
            "Epoch 41/100\n",
            "8/8 [==============================] - 25s 3s/step - loss: 0.2643 - accuracy: 0.8926 - val_loss: 2.0665 - val_accuracy: 0.6055\n",
            "Epoch 42/100\n",
            "8/8 [==============================] - 22s 3s/step - loss: 0.2749 - accuracy: 0.8776 - val_loss: 1.6297 - val_accuracy: 0.6328\n",
            "Epoch 43/100\n",
            "8/8 [==============================] - 22s 3s/step - loss: 0.2640 - accuracy: 0.8999 - val_loss: 2.9209 - val_accuracy: 0.5430\n",
            "Epoch 44/100\n",
            "8/8 [==============================] - 25s 3s/step - loss: 0.2444 - accuracy: 0.9023 - val_loss: 1.6896 - val_accuracy: 0.6641\n",
            "Epoch 45/100\n",
            "8/8 [==============================] - 23s 3s/step - loss: 0.3569 - accuracy: 0.8521 - val_loss: 2.2391 - val_accuracy: 0.6016\n",
            "Epoch 46/100\n",
            "8/8 [==============================] - 23s 3s/step - loss: 0.2126 - accuracy: 0.9221 - val_loss: 2.3189 - val_accuracy: 0.6133\n",
            "Epoch 47/100\n",
            "8/8 [==============================] - 22s 3s/step - loss: 0.2256 - accuracy: 0.9032 - val_loss: 3.1716 - val_accuracy: 0.5625\n",
            "Epoch 48/100\n",
            "8/8 [==============================] - 22s 3s/step - loss: 0.2497 - accuracy: 0.8877 - val_loss: 2.6005 - val_accuracy: 0.6016\n",
            "Epoch 49/100\n",
            "8/8 [==============================] - 22s 3s/step - loss: 0.2964 - accuracy: 0.8776 - val_loss: 2.6593 - val_accuracy: 0.5859\n",
            "Epoch 50/100\n",
            "8/8 [==============================] - 25s 3s/step - loss: 0.2111 - accuracy: 0.9131 - val_loss: 2.9828 - val_accuracy: 0.5703\n",
            "Epoch 51/100\n",
            "8/8 [==============================] - 25s 3s/step - loss: 0.2081 - accuracy: 0.9189 - val_loss: 3.6948 - val_accuracy: 0.5352\n",
            "Epoch 52/100\n",
            "8/8 [==============================] - 23s 3s/step - loss: 0.2503 - accuracy: 0.9032 - val_loss: 2.9780 - val_accuracy: 0.5703\n",
            "Epoch 53/100\n",
            "8/8 [==============================] - 22s 3s/step - loss: 0.2382 - accuracy: 0.8932 - val_loss: 2.9056 - val_accuracy: 0.5820\n",
            "Epoch 54/100\n",
            "8/8 [==============================] - 22s 3s/step - loss: 0.2364 - accuracy: 0.9010 - val_loss: 2.3928 - val_accuracy: 0.6133\n",
            "Epoch 55/100\n",
            "8/8 [==============================] - 22s 3s/step - loss: 0.1798 - accuracy: 0.9244 - val_loss: 3.1312 - val_accuracy: 0.5703\n",
            "Epoch 56/100\n",
            "8/8 [==============================] - 25s 3s/step - loss: 0.2505 - accuracy: 0.8955 - val_loss: 2.7018 - val_accuracy: 0.5898\n",
            "Epoch 57/100\n",
            "8/8 [==============================] - 25s 3s/step - loss: 0.2395 - accuracy: 0.9032 - val_loss: 2.2464 - val_accuracy: 0.6367\n",
            "Epoch 58/100\n",
            "8/8 [==============================] - 25s 3s/step - loss: 0.2010 - accuracy: 0.9143 - val_loss: 3.0327 - val_accuracy: 0.5820\n",
            "Epoch 59/100\n",
            "8/8 [==============================] - 23s 3s/step - loss: 0.2439 - accuracy: 0.8966 - val_loss: 2.0323 - val_accuracy: 0.6367\n",
            "Epoch 60/100\n",
            "8/8 [==============================] - 23s 3s/step - loss: 0.2220 - accuracy: 0.9088 - val_loss: 2.1057 - val_accuracy: 0.6484\n",
            "Epoch 61/100\n",
            "8/8 [==============================] - 23s 3s/step - loss: 0.2000 - accuracy: 0.9177 - val_loss: 2.8555 - val_accuracy: 0.5820\n",
            "Epoch 62/100\n",
            "8/8 [==============================] - 22s 3s/step - loss: 0.2568 - accuracy: 0.9043 - val_loss: 2.6088 - val_accuracy: 0.5859\n",
            "Epoch 63/100\n",
            "8/8 [==============================] - 25s 3s/step - loss: 0.1864 - accuracy: 0.9333 - val_loss: 2.5943 - val_accuracy: 0.6250\n",
            "Epoch 64/100\n",
            "8/8 [==============================] - 22s 3s/step - loss: 0.2097 - accuracy: 0.9199 - val_loss: 2.4509 - val_accuracy: 0.6289\n",
            "Epoch 65/100\n",
            "8/8 [==============================] - 25s 3s/step - loss: 0.1760 - accuracy: 0.9277 - val_loss: 3.2018 - val_accuracy: 0.5781\n",
            "Epoch 66/100\n",
            "8/8 [==============================] - 25s 3s/step - loss: 0.2053 - accuracy: 0.9199 - val_loss: 2.7686 - val_accuracy: 0.6133\n",
            "Epoch 67/100\n",
            "8/8 [==============================] - 24s 3s/step - loss: 0.1751 - accuracy: 0.9277 - val_loss: 3.5857 - val_accuracy: 0.5547\n",
            "Epoch 68/100\n",
            "8/8 [==============================] - 22s 3s/step - loss: 0.2598 - accuracy: 0.8832 - val_loss: 2.1332 - val_accuracy: 0.6445\n",
            "Epoch 69/100\n",
            "8/8 [==============================] - 22s 3s/step - loss: 0.1616 - accuracy: 0.9388 - val_loss: 2.2082 - val_accuracy: 0.6602\n",
            "Epoch 70/100\n",
            "8/8 [==============================] - 22s 3s/step - loss: 0.2575 - accuracy: 0.8921 - val_loss: 2.5953 - val_accuracy: 0.6328\n",
            "Epoch 71/100\n",
            "8/8 [==============================] - 22s 3s/step - loss: 0.2214 - accuracy: 0.9066 - val_loss: 2.1670 - val_accuracy: 0.6602\n",
            "Epoch 72/100\n",
            "8/8 [==============================] - 22s 3s/step - loss: 0.1552 - accuracy: 0.9433 - val_loss: 2.9064 - val_accuracy: 0.6172\n",
            "Epoch 73/100\n",
            "8/8 [==============================] - 25s 3s/step - loss: 0.1543 - accuracy: 0.9388 - val_loss: 3.7943 - val_accuracy: 0.5625\n",
            "Epoch 74/100\n",
            "8/8 [==============================] - 24s 3s/step - loss: 0.1616 - accuracy: 0.9321 - val_loss: 3.5088 - val_accuracy: 0.5781\n",
            "Epoch 75/100\n",
            "8/8 [==============================] - 23s 3s/step - loss: 0.2004 - accuracy: 0.9221 - val_loss: 2.2417 - val_accuracy: 0.6641\n",
            "Epoch 76/100\n",
            "8/8 [==============================] - 22s 3s/step - loss: 0.1611 - accuracy: 0.9366 - val_loss: 2.8158 - val_accuracy: 0.6406\n",
            "Epoch 77/100\n",
            "8/8 [==============================] - 22s 3s/step - loss: 0.2237 - accuracy: 0.9088 - val_loss: 2.9831 - val_accuracy: 0.6250\n",
            "Epoch 78/100\n",
            "8/8 [==============================] - 24s 3s/step - loss: 0.1374 - accuracy: 0.9473 - val_loss: 3.6513 - val_accuracy: 0.5742\n",
            "Epoch 79/100\n",
            "8/8 [==============================] - 22s 3s/step - loss: 0.1495 - accuracy: 0.9366 - val_loss: 2.3548 - val_accuracy: 0.6680\n",
            "Epoch 80/100\n",
            "8/8 [==============================] - 22s 3s/step - loss: 0.2462 - accuracy: 0.9188 - val_loss: 3.1823 - val_accuracy: 0.5898\n",
            "Epoch 81/100\n",
            "8/8 [==============================] - 25s 3s/step - loss: 0.1494 - accuracy: 0.9492 - val_loss: 2.2166 - val_accuracy: 0.6602\n",
            "Epoch 82/100\n",
            "8/8 [==============================] - 22s 3s/step - loss: 0.1461 - accuracy: 0.9455 - val_loss: 4.9550 - val_accuracy: 0.5234\n",
            "Epoch 83/100\n",
            "8/8 [==============================] - 27s 3s/step - loss: 0.1763 - accuracy: 0.9310 - val_loss: 3.4719 - val_accuracy: 0.5938\n",
            "Epoch 84/100\n",
            "8/8 [==============================] - 22s 3s/step - loss: 0.1753 - accuracy: 0.9310 - val_loss: 3.8777 - val_accuracy: 0.5781\n",
            "Epoch 85/100\n",
            "8/8 [==============================] - 22s 3s/step - loss: 0.2336 - accuracy: 0.9066 - val_loss: 2.3703 - val_accuracy: 0.6562\n",
            "Epoch 86/100\n",
            "8/8 [==============================] - 22s 3s/step - loss: 0.1500 - accuracy: 0.9366 - val_loss: 3.0333 - val_accuracy: 0.6367\n",
            "Epoch 87/100\n",
            "8/8 [==============================] - 22s 3s/step - loss: 0.1605 - accuracy: 0.9333 - val_loss: 3.1222 - val_accuracy: 0.6367\n",
            "Epoch 88/100\n",
            "8/8 [==============================] - 25s 3s/step - loss: 0.1307 - accuracy: 0.9444 - val_loss: 2.9096 - val_accuracy: 0.6406\n",
            "Epoch 89/100\n",
            "8/8 [==============================] - 22s 3s/step - loss: 0.1339 - accuracy: 0.9477 - val_loss: 3.9153 - val_accuracy: 0.5625\n",
            "Epoch 90/100\n",
            "8/8 [==============================] - 22s 3s/step - loss: 0.1533 - accuracy: 0.9444 - val_loss: 1.8896 - val_accuracy: 0.6875\n",
            "Epoch 91/100\n",
            "8/8 [==============================] - 23s 3s/step - loss: 0.1679 - accuracy: 0.9288 - val_loss: 2.2955 - val_accuracy: 0.6523\n",
            "Epoch 92/100\n",
            "8/8 [==============================] - 23s 3s/step - loss: 0.1440 - accuracy: 0.9477 - val_loss: 2.9674 - val_accuracy: 0.6406\n",
            "Epoch 93/100\n",
            "8/8 [==============================] - 23s 3s/step - loss: 0.2150 - accuracy: 0.9255 - val_loss: 3.8113 - val_accuracy: 0.5781\n",
            "Epoch 94/100\n",
            "8/8 [==============================] - 22s 3s/step - loss: 0.1134 - accuracy: 0.9566 - val_loss: 4.9948 - val_accuracy: 0.5273\n",
            "Epoch 95/100\n",
            "8/8 [==============================] - 22s 3s/step - loss: 0.1327 - accuracy: 0.9511 - val_loss: 3.2046 - val_accuracy: 0.6094\n",
            "Epoch 96/100\n",
            "8/8 [==============================] - 22s 3s/step - loss: 0.1512 - accuracy: 0.9410 - val_loss: 5.3660 - val_accuracy: 0.5156\n",
            "Epoch 97/100\n",
            "8/8 [==============================] - 22s 3s/step - loss: 0.1758 - accuracy: 0.9199 - val_loss: 3.0250 - val_accuracy: 0.6406\n",
            "Epoch 98/100\n",
            "8/8 [==============================] - 23s 3s/step - loss: 0.1085 - accuracy: 0.9633 - val_loss: 2.7725 - val_accuracy: 0.6484\n",
            "Epoch 99/100\n",
            "8/8 [==============================] - 22s 3s/step - loss: 0.1853 - accuracy: 0.9210 - val_loss: 2.6674 - val_accuracy: 0.6445\n",
            "Epoch 100/100\n",
            "8/8 [==============================] - 22s 3s/step - loss: 0.1322 - accuracy: 0.9499 - val_loss: 4.0292 - val_accuracy: 0.5820\n"
          ],
          "name": "stdout"
        }
      ]
    },
    {
      "cell_type": "code",
      "metadata": {
        "colab_type": "code",
        "id": "7zNPRWOVJdOH",
        "colab": {
          "base_uri": "https://localhost:8080/",
          "height": 229
        },
        "outputId": "54444d35-f307-4d33-dfa8-13a8347e17d2"
      },
      "source": [
        "import matplotlib.pyplot as plt\n",
        "acc = history.history['accuracy']\n",
        "val_acc = history.history['val_accuracy']\n",
        "loss = history.history['loss']\n",
        "val_loss = history.history['val_loss']\n",
        "\n",
        "epochs = range(len(acc))\n",
        "\n",
        "plt.plot(epochs, acc, 'r', label='Training accuracy')\n",
        "plt.plot(epochs, val_acc, 'b', label='Validation accuracy')\n",
        "plt.title('Training and validation accuracy')\n",
        "\n",
        "plt.figure()\n",
        "\n",
        "plt.plot(epochs, loss, 'r', label='Training Loss')\n",
        "plt.plot(epochs, val_loss, 'b', label='Validation Loss')\n",
        "plt.title('Training and validation loss')\n",
        "plt.legend()\n",
        "\n",
        "plt.show()"
      ],
      "execution_count": 1,
      "outputs": [
        {
          "output_type": "error",
          "ename": "NameError",
          "evalue": "ignored",
          "traceback": [
            "\u001b[0;31m---------------------------------------------------------------------------\u001b[0m",
            "\u001b[0;31mNameError\u001b[0m                                 Traceback (most recent call last)",
            "\u001b[0;32m<ipython-input-1-c2178ef7bb38>\u001b[0m in \u001b[0;36m<module>\u001b[0;34m()\u001b[0m\n\u001b[1;32m      1\u001b[0m \u001b[0;32mimport\u001b[0m \u001b[0mmatplotlib\u001b[0m\u001b[0;34m.\u001b[0m\u001b[0mpyplot\u001b[0m \u001b[0;32mas\u001b[0m \u001b[0mplt\u001b[0m\u001b[0;34m\u001b[0m\u001b[0;34m\u001b[0m\u001b[0m\n\u001b[0;32m----> 2\u001b[0;31m \u001b[0macc\u001b[0m \u001b[0;34m=\u001b[0m \u001b[0mhistory\u001b[0m\u001b[0;34m.\u001b[0m\u001b[0mhistory\u001b[0m\u001b[0;34m[\u001b[0m\u001b[0;34m'accuracy'\u001b[0m\u001b[0;34m]\u001b[0m\u001b[0;34m\u001b[0m\u001b[0;34m\u001b[0m\u001b[0m\n\u001b[0m\u001b[1;32m      3\u001b[0m \u001b[0mval_acc\u001b[0m \u001b[0;34m=\u001b[0m \u001b[0mhistory\u001b[0m\u001b[0;34m.\u001b[0m\u001b[0mhistory\u001b[0m\u001b[0;34m[\u001b[0m\u001b[0;34m'val_accuracy'\u001b[0m\u001b[0;34m]\u001b[0m\u001b[0;34m\u001b[0m\u001b[0;34m\u001b[0m\u001b[0m\n\u001b[1;32m      4\u001b[0m \u001b[0mloss\u001b[0m \u001b[0;34m=\u001b[0m \u001b[0mhistory\u001b[0m\u001b[0;34m.\u001b[0m\u001b[0mhistory\u001b[0m\u001b[0;34m[\u001b[0m\u001b[0;34m'loss'\u001b[0m\u001b[0;34m]\u001b[0m\u001b[0;34m\u001b[0m\u001b[0;34m\u001b[0m\u001b[0m\n\u001b[1;32m      5\u001b[0m \u001b[0mval_loss\u001b[0m \u001b[0;34m=\u001b[0m \u001b[0mhistory\u001b[0m\u001b[0;34m.\u001b[0m\u001b[0mhistory\u001b[0m\u001b[0;34m[\u001b[0m\u001b[0;34m'val_loss'\u001b[0m\u001b[0;34m]\u001b[0m\u001b[0;34m\u001b[0m\u001b[0;34m\u001b[0m\u001b[0m\n",
            "\u001b[0;31mNameError\u001b[0m: name 'history' is not defined"
          ]
        }
      ]
    }
  ]
}